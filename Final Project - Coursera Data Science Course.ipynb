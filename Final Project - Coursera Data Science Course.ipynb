{
 "cells": [
  {
   "cell_type": "markdown",
   "metadata": {},
   "source": [
    "# My Jupiter Notebook on Watson Studio"
   ]
  },
  {
   "cell_type": "markdown",
   "metadata": {},
   "source": [
    "**Daniel Moncayo**\n",
    "\n",
    "Data Scientist"
   ]
  },
  {
   "cell_type": "markdown",
   "metadata": {},
   "source": [
    "*I am interested in Data Science because I find fascinating and entertaining to study trends and see how technology can work to help us achieve any goals*"
   ]
  },
  {
   "cell_type": "markdown",
   "metadata": {},
   "source": [
    "### The following line will sum up 3 different variables that have assigned values"
   ]
  },
  {
   "cell_type": "code",
   "execution_count": 13,
   "metadata": {},
   "outputs": [
    {
     "data": {
      "text/plain": [
       "9"
      ]
     },
     "execution_count": 13,
     "metadata": {},
     "output_type": "execute_result"
    }
   ],
   "source": [
    "a = 2\n",
    "b = 4\n",
    "c = 3\n",
    "a+b+c"
   ]
  },
  {
   "cell_type": "markdown",
   "metadata": {},
   "source": [
    "[IBM Cloud Pak for Data] (https://dataplatform.cloud.ibm.com/login?context=cpdaas&sign_in_target=%2Fcanvas%2Fflows%2F0e7d5ed6-df9f-4455-ad90-316af2f1e520%3Fcontext%3Dcpdaas%26projectGuid%3D1525dc4c-016b-41f6-a759-353f12d7f9f5%26env_id%3Dmods-1525dc4c-016b-41f6-a759-353f12d7f9f5)"
   ]
  },
  {
   "cell_type": "markdown",
   "metadata": {},
   "source": [
    "1. Python\n",
    "2. SQL\n",
    "3. Jupyter\n",
    "4. C##"
   ]
  },
  {
   "cell_type": "markdown",
   "metadata": {},
   "source": [
    "| World Cup | Group A Teams |\n",
    "| ----------- | ----------- |\n",
    "| Ecuador | Senegal |\n",
    "| Netherlands | Qatar |"
   ]
  },
  {
   "cell_type": "markdown",
   "metadata": {},
   "source": [
    "Teams from Group A that I believe will make it to the next round:\n",
    "\n",
    "**[x]Ecuador**\n",
    "\n",
    "**[ ] Qatar**\n",
    "\n",
    "**[x] Netherlands**\n",
    "\n",
    "**[ ] Senegal**"
   ]
  },
  {
   "cell_type": "code",
   "execution_count": null,
   "metadata": {},
   "outputs": [],
   "source": []
  }
 ],
 "metadata": {
  "kernelspec": {
   "display_name": "Python 3",
   "language": "python",
   "name": "python3"
  },
  "language_info": {
   "codemirror_mode": {
    "name": "ipython",
    "version": 3
   },
   "file_extension": ".py",
   "mimetype": "text/x-python",
   "name": "python",
   "nbconvert_exporter": "python",
   "pygments_lexer": "ipython3",
   "version": "3.8.5"
  }
 },
 "nbformat": 4,
 "nbformat_minor": 4
}
